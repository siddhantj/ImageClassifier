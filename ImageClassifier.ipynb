{
 "cells": [
  {
   "cell_type": "markdown",
   "metadata": {
    "collapsed": true
   },
   "source": [
    "# Effectiveness of feedforward neural network for classifying images"
   ]
  },
  {
   "cell_type": "code",
   "execution_count": 77,
   "metadata": {},
   "outputs": [
    {
     "data": {
      "image/png": "[encoded data removed]",
      "text/plain": [
       "<Figure size 576x360 with 8 Axes>"
      ]
     },
     "metadata": {
      "needs_background": "light"
     },
     "output_type": "display_data"
    }
   ],
   "source": [
    "from sklearn.datasets import load_digits\n",
    "import pandas as pd\n",
    "# import sys\n",
    "import numpy as np\n",
    "# np.set_printoptions(threshold=sys.maxsize)\n",
    "import matplotlib.pyplot as plt\n",
    "%matplotlib inline\n",
    "\n",
    "pd.set_option('display.max_rows', 500)\n",
    "pd.set_option('display.max_columns', 1000)\n",
    "\n",
    "\n",
    "digits = load_digits()\n",
    "data = digits['data']\n",
    "images = digits['images']\n",
    "target = digits['target']\n",
    "target_names = digits['target_names']\n",
    "# print(\"data images target target_names: {} {} {} {}\".format(len(data), len(images), len(target), len(target_names)))\n",
    "\n",
    "fig = plt.figure(figsize=(8,5))\n",
    "first_row = [0,100,200,300]\n",
    "sec_row = [1000, 1100, 1200, 1300]\n",
    "n_plots = 8\n",
    "i=0\n",
    "for val in first_row:\n",
    "    plt.subplot(2,4,i+1)\n",
    "    plt.imshow(images[val], cmap='binary')\n",
    "    plt.title(target[val])\n",
    "    plt.axis('off')\n",
    "    i +=1\n",
    "    \n",
    "for val in sec_row:\n",
    "    plt.subplot(2,4,i+1)\n",
    "    plt.imshow(images[val], cmap='binary')\n",
    "    plt.title(target[val])\n",
    "    plt.axis('off')\n",
    "    i +=1\n",
    "# plt.imshow(images[0],cmap='binary')"
   ]
  },
  {
   "cell_type": "markdown",
   "metadata": {
    "collapsed": true
   },
   "source": [
    "##### Convert the image pixel data 'data' into a DataFrame and convert the 'target' numpy array containing the value of a digit at the corresponding index in 'data' into Series"
   ]
  },
  {
   "cell_type": "code",
   "execution_count": 78,
   "metadata": {},
   "outputs": [],
   "source": [
    "from sklearn.model_selection import cross_val_score,KFold\n",
    "from sklearn.neighbors import KNeighborsClassifier \n",
    "\n",
    "# Convert the above arrays into DataFrames and Series\n",
    "source_df = pd.DataFrame(data)\n",
    "target_s = pd.Series(target)\n",
    "\n",
    "# Shuffle the data\n",
    "np.random.seed(1)\n",
    "shuffled_index = np.random.permutation(source_df.index)\n",
    "source_df = source_df.loc[shuffled_index]\n",
    "target_s = target_s.loc[shuffled_index]\n"
   ]
  },
  {
   "cell_type": "markdown",
   "metadata": {},
   "source": [
    "##### Linear and logistic regression assume linearity between input features and the output. Since k-nearest neighbor makes no such assumption, we can use to capture non-linearity of data. k-nearest neighbor compares every training observation with the test feature and chooses the closest match. So, let's use the KNeighborClassifer"
   ]
  },
  {
   "cell_type": "markdown",
   "metadata": {},
   "source": [
    "# Train and Test using K-Fold Validation"
   ]
  },
  {
   "cell_type": "code",
   "execution_count": 79,
   "metadata": {},
   "outputs": [
    {
     "data": {
      "image/png": "[encoded data removed]",
      "text/plain": [
       "<Figure size 432x288 with 1 Axes>"
      ]
     },
     "metadata": {
      "needs_background": "light"
     },
     "output_type": "display_data"
    },
    {
     "name": "stdout",
     "output_type": "stream",
     "text": [
      "[-0.31828507795100225, -0.40286067804998765, -0.3538393961890621, -0.41231625835189306, -0.3683296213808463, -0.457279138827023, -0.4689717891610987, -0.5290262311309082, -0.508469438257857, -0.5385473892600842, -0.501321455085375, -0.6058636476119773, -0.5847611977233358, -0.6469784706755753, -0.6114983914872556, -0.6187564959168522, -0.6009193268992824, -0.6777010640930463, -0.6760418213313537, -0.7338282603316011]\n"
     ]
    }
   ],
   "source": [
    "## Performing 4-fold cross validation\n",
    "kf = KFold(4, shuffle=True, random_state=1)\n",
    "\n",
    "# We would like to find an optimal value of k so that we can get the \n",
    "# least error.\n",
    "k_values = 20\n",
    "knn_avg_mses = []\n",
    "\n",
    "for k in range(1,k_values+1):\n",
    "    knn = KNeighborsClassifier(k)\n",
    "    mses = cross_val_score(knn, source_df, target_s,scoring='neg_mean_squared_error',cv=kf)\n",
    "    avg_mse = np.mean(mses)\n",
    "    knn_avg_mses.append(avg_mse)\n",
    "    \n",
    "# plot a line graph\n",
    "plt.plot(range(1,k_values+1), knn_avg_mses)\n",
    "plt.xlabel('k')\n",
    "plt.ylabel('Avg. MSE')\n",
    "plt.show()\n",
    "print(knn_avg_mses)"
   ]
  },
  {
   "cell_type": "markdown",
   "metadata": {},
   "source": [
    "##### We performed  hyperparameterization to find an least MSE( Mean Square Error). The optimal value at which MSE is minumum is at k=3. We observe that after k=7, the average MSE values are increasing."
   ]
  },
  {
   "cell_type": "markdown",
   "metadata": {},
   "source": [
    "##### Due to limitations of the K-Nearest Neighbor, such as high memory usage and no model representation to debug and explore we would use MLPClassifier. We will try different numbef of neurons in a single hidden layer. We will use the same model evaulation technique 'accuracy_score' to determine if we can bring down our error."
   ]
  },
  {
   "cell_type": "code",
   "execution_count": 80,
   "metadata": {},
   "outputs": [
    {
     "name": "stderr",
     "output_type": "stream",
     "text": [
      "C:\\Users\\siddh\\anaconda3\\lib\\site-packages\\sklearn\\neural_network\\_multilayer_perceptron.py:571: ConvergenceWarning: Stochastic Optimizer: Maximum iterations (200) reached and the optimization hasn't converged yet.\n",
      "  % self.max_iter, ConvergenceWarning)\n",
      "C:\\Users\\siddh\\anaconda3\\lib\\site-packages\\sklearn\\neural_network\\_multilayer_perceptron.py:571: ConvergenceWarning: Stochastic Optimizer: Maximum iterations (200) reached and the optimization hasn't converged yet.\n",
      "  % self.max_iter, ConvergenceWarning)\n",
      "C:\\Users\\siddh\\anaconda3\\lib\\site-packages\\sklearn\\neural_network\\_multilayer_perceptron.py:571: ConvergenceWarning: Stochastic Optimizer: Maximum iterations (200) reached and the optimization hasn't converged yet.\n",
      "  % self.max_iter, ConvergenceWarning)\n",
      "C:\\Users\\siddh\\anaconda3\\lib\\site-packages\\sklearn\\neural_network\\_multilayer_perceptron.py:571: ConvergenceWarning: Stochastic Optimizer: Maximum iterations (200) reached and the optimization hasn't converged yet.\n",
      "  % self.max_iter, ConvergenceWarning)\n",
      "C:\\Users\\siddh\\anaconda3\\lib\\site-packages\\sklearn\\neural_network\\_multilayer_perceptron.py:571: ConvergenceWarning: Stochastic Optimizer: Maximum iterations (200) reached and the optimization hasn't converged yet.\n",
      "  % self.max_iter, ConvergenceWarning)\n",
      "C:\\Users\\siddh\\anaconda3\\lib\\site-packages\\sklearn\\neural_network\\_multilayer_perceptron.py:571: ConvergenceWarning: Stochastic Optimizer: Maximum iterations (200) reached and the optimization hasn't converged yet.\n",
      "  % self.max_iter, ConvergenceWarning)\n",
      "C:\\Users\\siddh\\anaconda3\\lib\\site-packages\\sklearn\\neural_network\\_multilayer_perceptron.py:571: ConvergenceWarning: Stochastic Optimizer: Maximum iterations (200) reached and the optimization hasn't converged yet.\n",
      "  % self.max_iter, ConvergenceWarning)\n",
      "C:\\Users\\siddh\\anaconda3\\lib\\site-packages\\sklearn\\neural_network\\_multilayer_perceptron.py:571: ConvergenceWarning: Stochastic Optimizer: Maximum iterations (200) reached and the optimization hasn't converged yet.\n",
      "  % self.max_iter, ConvergenceWarning)\n",
      "C:\\Users\\siddh\\anaconda3\\lib\\site-packages\\sklearn\\neural_network\\_multilayer_perceptron.py:571: ConvergenceWarning: Stochastic Optimizer: Maximum iterations (200) reached and the optimization hasn't converged yet.\n",
      "  % self.max_iter, ConvergenceWarning)\n",
      "C:\\Users\\siddh\\anaconda3\\lib\\site-packages\\sklearn\\neural_network\\_multilayer_perceptron.py:571: ConvergenceWarning: Stochastic Optimizer: Maximum iterations (200) reached and the optimization hasn't converged yet.\n",
      "  % self.max_iter, ConvergenceWarning)\n",
      "C:\\Users\\siddh\\anaconda3\\lib\\site-packages\\sklearn\\neural_network\\_multilayer_perceptron.py:571: ConvergenceWarning: Stochastic Optimizer: Maximum iterations (200) reached and the optimization hasn't converged yet.\n",
      "  % self.max_iter, ConvergenceWarning)\n",
      "C:\\Users\\siddh\\anaconda3\\lib\\site-packages\\sklearn\\neural_network\\_multilayer_perceptron.py:571: ConvergenceWarning: Stochastic Optimizer: Maximum iterations (200) reached and the optimization hasn't converged yet.\n",
      "  % self.max_iter, ConvergenceWarning)\n"
     ]
    },
    {
     "data": {
      "image/png": "[encoded data removed]",
      "text/plain": [
       "<Figure size 432x288 with 1 Axes>"
      ]
     },
     "metadata": {
      "needs_background": "light"
     },
     "output_type": "display_data"
    },
    {
     "name": "stdout",
     "output_type": "stream",
     "text": [
      "[-1.350756000989854, -0.7406434050977481, -0.6326540460282108, -0.5848874041078941, -0.4156953724325662, -0.40117792625587734]\n"
     ]
    }
   ],
   "source": [
    "from sklearn.neural_network import MLPClassifier\n",
    "\n",
    "hidden_layer_neurons = (8,16,32,64,128,256)\n",
    "mlp_avg_mses = []\n",
    "for n in hidden_layer_neurons:\n",
    "    mlp = MLPClassifier(hidden_layer_sizes=(n,))\n",
    "    mses = cross_val_score(mlp, source_df, target_s,scoring='neg_mean_squared_error',cv=kf)\n",
    "    avg_mse = np.mean(mses)\n",
    "    mlp_avg_mses.append(avg_mse)\n",
    "    \n",
    "# plot a line graph\n",
    "plt.plot(hidden_layer_neurons, mlp_avg_mses)\n",
    "plt.xlabel('neurons in single hidden layer')\n",
    "plt.ylabel('Avg. MSE')\n",
    "plt.show()\n",
    "print(mlp_avg_mses)"
   ]
  },
  {
   "cell_type": "markdown",
   "metadata": {
    "collapsed": true
   },
   "source": [
    "##### At around 128 neurons in a single hidden layer is where we get optimal performance of model. Comparing this average MSE with MSE calculated using KFold validation, we still need to improve our model. So, let's try adding two hidden layers and adding neurons per hidden layer to see if it makes any difference"
   ]
  },
  {
   "cell_type": "code",
   "execution_count": 81,
   "metadata": {},
   "outputs": [
    {
     "name": "stderr",
     "output_type": "stream",
     "text": [
      "C:\\Users\\siddh\\anaconda3\\lib\\site-packages\\sklearn\\neural_network\\_multilayer_perceptron.py:571: ConvergenceWarning: Stochastic Optimizer: Maximum iterations (200) reached and the optimization hasn't converged yet.\n",
      "  % self.max_iter, ConvergenceWarning)\n",
      "C:\\Users\\siddh\\anaconda3\\lib\\site-packages\\sklearn\\neural_network\\_multilayer_perceptron.py:571: ConvergenceWarning: Stochastic Optimizer: Maximum iterations (200) reached and the optimization hasn't converged yet.\n",
      "  % self.max_iter, ConvergenceWarning)\n",
      "C:\\Users\\siddh\\anaconda3\\lib\\site-packages\\sklearn\\neural_network\\_multilayer_perceptron.py:571: ConvergenceWarning: Stochastic Optimizer: Maximum iterations (200) reached and the optimization hasn't converged yet.\n",
      "  % self.max_iter, ConvergenceWarning)\n",
      "C:\\Users\\siddh\\anaconda3\\lib\\site-packages\\sklearn\\neural_network\\_multilayer_perceptron.py:571: ConvergenceWarning: Stochastic Optimizer: Maximum iterations (200) reached and the optimization hasn't converged yet.\n",
      "  % self.max_iter, ConvergenceWarning)\n",
      "C:\\Users\\siddh\\anaconda3\\lib\\site-packages\\sklearn\\neural_network\\_multilayer_perceptron.py:571: ConvergenceWarning: Stochastic Optimizer: Maximum iterations (200) reached and the optimization hasn't converged yet.\n",
      "  % self.max_iter, ConvergenceWarning)\n",
      "C:\\Users\\siddh\\anaconda3\\lib\\site-packages\\sklearn\\neural_network\\_multilayer_perceptron.py:571: ConvergenceWarning: Stochastic Optimizer: Maximum iterations (200) reached and the optimization hasn't converged yet.\n",
      "  % self.max_iter, ConvergenceWarning)\n",
      "C:\\Users\\siddh\\anaconda3\\lib\\site-packages\\sklearn\\neural_network\\_multilayer_perceptron.py:571: ConvergenceWarning: Stochastic Optimizer: Maximum iterations (200) reached and the optimization hasn't converged yet.\n",
      "  % self.max_iter, ConvergenceWarning)\n",
      "C:\\Users\\siddh\\anaconda3\\lib\\site-packages\\sklearn\\neural_network\\_multilayer_perceptron.py:571: ConvergenceWarning: Stochastic Optimizer: Maximum iterations (200) reached and the optimization hasn't converged yet.\n",
      "  % self.max_iter, ConvergenceWarning)\n"
     ]
    },
    {
     "data": {
      "image/png": "[encoded data removed]",
      "text/plain": [
       "<Figure size 432x288 with 1 Axes>"
      ]
     },
     "metadata": {
      "needs_background": "light"
     },
     "output_type": "display_data"
    },
    {
     "name": "stdout",
     "output_type": "stream",
     "text": [
      "[-2.3320786933927247, -0.8189656025736204, -0.7688332096015837, -0.4396275674338035, -0.44958302400395944, -0.2771133382826033]\n"
     ]
    }
   ],
   "source": [
    "mlp_avg_mses_2_hidden_layer = []\n",
    "for n in hidden_layer_neurons:\n",
    "    mlp = MLPClassifier(hidden_layer_sizes=(n,n))\n",
    "    mses = cross_val_score(mlp, source_df, target_s,scoring='neg_mean_squared_error',cv=kf)\n",
    "    avg_mse = np.mean(mses)\n",
    "    mlp_avg_mses_2_hidden_layer.append(avg_mse)\n",
    "    \n",
    "# plot a line graph\n",
    "plt.plot(hidden_layer_neurons, mlp_avg_mses_2_hidden_layer)\n",
    "plt.xlabel('neurons in two hidden layer')\n",
    "plt.ylabel('Avg. MSE')\n",
    "plt.title('Avg mses for neurons in 2 hidden layer with 4-fold validation')\n",
    "plt.show()\n",
    "print(mlp_avg_mses_2_hidden_layer)"
   ]
  },
  {
   "cell_type": "markdown",
   "metadata": {},
   "source": [
    "##### Adding more hidden layers with Kfold=4 resulted in even worst performance than the our previous MLP model. Using more hidden layers tend to overfitting. So, let's make Kfold=6 and have 3 hidden layers."
   ]
  },
  {
   "cell_type": "code",
   "execution_count": 82,
   "metadata": {},
   "outputs": [
    {
     "name": "stderr",
     "output_type": "stream",
     "text": [
      "C:\\Users\\siddh\\anaconda3\\lib\\site-packages\\sklearn\\neural_network\\_multilayer_perceptron.py:571: ConvergenceWarning: Stochastic Optimizer: Maximum iterations (200) reached and the optimization hasn't converged yet.\n",
      "  % self.max_iter, ConvergenceWarning)\n",
      "C:\\Users\\siddh\\anaconda3\\lib\\site-packages\\sklearn\\neural_network\\_multilayer_perceptron.py:571: ConvergenceWarning: Stochastic Optimizer: Maximum iterations (200) reached and the optimization hasn't converged yet.\n",
      "  % self.max_iter, ConvergenceWarning)\n",
      "C:\\Users\\siddh\\anaconda3\\lib\\site-packages\\sklearn\\neural_network\\_multilayer_perceptron.py:571: ConvergenceWarning: Stochastic Optimizer: Maximum iterations (200) reached and the optimization hasn't converged yet.\n",
      "  % self.max_iter, ConvergenceWarning)\n",
      "C:\\Users\\siddh\\anaconda3\\lib\\site-packages\\sklearn\\neural_network\\_multilayer_perceptron.py:571: ConvergenceWarning: Stochastic Optimizer: Maximum iterations (200) reached and the optimization hasn't converged yet.\n",
      "  % self.max_iter, ConvergenceWarning)\n",
      "C:\\Users\\siddh\\anaconda3\\lib\\site-packages\\sklearn\\neural_network\\_multilayer_perceptron.py:571: ConvergenceWarning: Stochastic Optimizer: Maximum iterations (200) reached and the optimization hasn't converged yet.\n",
      "  % self.max_iter, ConvergenceWarning)\n",
      "C:\\Users\\siddh\\anaconda3\\lib\\site-packages\\sklearn\\neural_network\\_multilayer_perceptron.py:571: ConvergenceWarning: Stochastic Optimizer: Maximum iterations (200) reached and the optimization hasn't converged yet.\n",
      "  % self.max_iter, ConvergenceWarning)\n",
      "C:\\Users\\siddh\\anaconda3\\lib\\site-packages\\sklearn\\neural_network\\_multilayer_perceptron.py:571: ConvergenceWarning: Stochastic Optimizer: Maximum iterations (200) reached and the optimization hasn't converged yet.\n",
      "  % self.max_iter, ConvergenceWarning)\n",
      "C:\\Users\\siddh\\anaconda3\\lib\\site-packages\\sklearn\\neural_network\\_multilayer_perceptron.py:571: ConvergenceWarning: Stochastic Optimizer: Maximum iterations (200) reached and the optimization hasn't converged yet.\n",
      "  % self.max_iter, ConvergenceWarning)\n"
     ]
    },
    {
     "data": {
      "image/png": "[encoded data removed]",
      "text/plain": [
       "<Figure size 432x288 with 1 Axes>"
      ]
     },
     "metadata": {
      "needs_background": "light"
     },
     "output_type": "display_data"
    },
    {
     "name": "stdout",
     "output_type": "stream",
     "text": [
      "[-1.6918287552585993, -0.9571170502350903, -0.7061804008908685, -0.552848304875031, -0.39554813165058156, -0.2738839396189062]\n"
     ]
    }
   ],
   "source": [
    "neurons_per_layer = [10,64,128,256]\n",
    "\n",
    "## Performing 6-fold cross validation\n",
    "# kf = KFold(6, shuffle=True, random_state=1)\n",
    "\n",
    "mlp_avg_mses_3_hidden_layer = []\n",
    "for n in hidden_layer_neurons:\n",
    "    mlp = MLPClassifier(hidden_layer_sizes=(n,n,n))\n",
    "    mses = cross_val_score(mlp, source_df, target_s,scoring='neg_mean_squared_error',cv=kf)\n",
    "    avg_mse = np.mean(mses)\n",
    "    mlp_avg_mses_3_hidden_layer.append(avg_mse)\n",
    "    \n",
    "plt.plot(hidden_layer_neurons, mlp_avg_mses_3_hidden_layer)\n",
    "plt.xlabel('neurons in three hidden layer')\n",
    "plt.ylabel('Avg. mses')\n",
    "plt.title('Avg mses for neurons in 3 hidden layer with 6-fold validation')\n",
    "plt.show()\n",
    "print(mlp_avg_mses_3_hidden_layer)"
   ]
  },
  {
   "cell_type": "markdown",
   "metadata": {},
   "source": [
    "Using 6 fold validation with 3 hidden layer gives more accuracy compared to 4-fold validation with 2 hidden layer, it still does not come close to using our K nearest algorithm."
   ]
  }
 ],
 "metadata": {
  "anaconda-cloud": {},
  "kernelspec": {
   "display_name": "Python 3",
   "language": "python",
   "name": "python3"
  },
  "language_info": {
   "codemirror_mode": {
    "name": "ipython",
    "version": 3
   },
   "file_extension": ".py",
   "mimetype": "text/x-python",
   "name": "python",
   "nbconvert_exporter": "python",
   "pygments_lexer": "ipython3",
   "version": "3.7.6"
  }
 },
 "nbformat": 4,
 "nbformat_minor": 2
}
